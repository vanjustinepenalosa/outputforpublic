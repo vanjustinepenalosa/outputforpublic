{
 "cells": [
  {
   "cell_type": "markdown",
   "id": "b17aaabc-1b86-4e7a-8811-a73ce0d28bb1",
   "metadata": {},
   "source": [
    "# Data Science Tools and Ecosystem"
   ]
  },
  {
   "cell_type": "markdown",
   "id": "cd07448a-cc59-42ea-9d2f-08b53989763c",
   "metadata": {},
   "source": [
    "# Introduction\r\n",
    "In this notebook, Data Science Tools and Ecosystem are summarized.\r\n"
   ]
  },
  {
   "cell_type": "markdown",
   "id": "95112af4-a4b6-42a2-8c2c-85f220099a40",
   "metadata": {},
   "source": [
    "# Data Science Languages\r\n",
    "Some of the popular languages that Data Scientists use are:\r\n",
    "1. Python\r\n",
    "2. R\r\n",
    "3. SQL\r\n"
   ]
  },
  {
   "cell_type": "markdown",
   "id": "ffd802d1-26ab-47ef-ad96-f15b96a28456",
   "metadata": {},
   "source": [
    "# Data Science Libraries\r\n",
    "Some of the commonly used libraries used by Data Scientists include:\r\n",
    "1. Pandas\r\n",
    "2. NumPy\r\n",
    "3. Scikit-learn\r\n"
   ]
  },
  {
   "cell_type": "markdown",
   "id": "b6aa5b4e-8f00-4d75-bca9-e3515019d166",
   "metadata": {},
   "source": [
    "| Data Science Tools |\r\n",
    "|--------------------|\r\n",
    "| Jupyter Notebook   |\r\n",
    "| RStudio            |\r\n",
    "| Apache Zeppelin    |\r\n"
   ]
  },
  {
   "cell_type": "markdown",
   "id": "f0b18000-10b0-4194-be9d-22f9b7d6ca1c",
   "metadata": {},
   "source": [
    "### Below are a few examples of evaluating arithmetic expressions in Python.\r\n"
   ]
  },
  {
   "cell_type": "markdown",
   "id": "3b8d03f2-80c4-4a26-b1cc-15273c8dff29",
   "metadata": {},
   "source": [
    "#### This is a simple arithmetic expression to multiply then add integers\n"
   ]
  },
  {
   "cell_type": "code",
   "execution_count": 3,
   "id": "e7df4d88-c1f1-41d2-818d-bd972c64d60c",
   "metadata": {},
   "outputs": [
    {
     "data": {
      "text/plain": [
       "17"
      ]
     },
     "execution_count": 3,
     "metadata": {},
     "output_type": "execute_result"
    }
   ],
   "source": [
    "(3*4)+5\n"
   ]
  },
  {
   "cell_type": "markdown",
   "id": "66090be1-995b-4ec2-a541-098da6637374",
   "metadata": {},
   "source": [
    "#### This will convert 200 minutes to hours by diving by 60"
   ]
  },
  {
   "cell_type": "code",
   "execution_count": 4,
   "id": "f6801f3e-e999-4ee2-9d65-d81f6638f3b7",
   "metadata": {},
   "outputs": [
    {
     "data": {
      "text/plain": [
       "3.3333333333333335"
      ]
     },
     "execution_count": 4,
     "metadata": {},
     "output_type": "execute_result"
    }
   ],
   "source": [
    "200 / 60"
   ]
  },
  {
   "cell_type": "markdown",
   "id": "55efab6f-33b9-4ac1-8613-a0181e38a1cb",
   "metadata": {},
   "source": [
    "**Objectives:**"
   ]
  },
  {
   "cell_type": "markdown",
   "id": "f4409c70-41e6-4d8b-9c58-4c54bdb979c1",
   "metadata": {},
   "source": [
    "- To learn Python Known for its intuitive syntax and extensive libraries for data analysis, visualization, and machine learning.\n",
    "- To learn R Highly regarded for data mining and statistical analysis capabilities, with a robust support community.\n",
    "- To learn SQL Essential for querying data and managing databases.\n",
    "- To learn Java Often used for its performance and portability across different platforms.\n",
    "- To learn Scala Appreciated for its ability to handle big data processing and performance on distributed systems\n"
   ]
  },
  {
   "cell_type": "markdown",
   "id": "3db6ec75-f89f-495b-900a-0e327e5b5656",
   "metadata": {},
   "source": [
    "######\n",
    "###### Author:\n",
    "###### Van Justine D. Penalosa"
   ]
  },
  {
   "cell_type": "code",
   "execution_count": null,
   "id": "c274ca9f-5230-43ac-b2e2-67b8f4854e44",
   "metadata": {},
   "outputs": [],
   "source": []
  }
 ],
 "metadata": {
  "kernelspec": {
   "display_name": "Python 3 (ipykernel)",
   "language": "python",
   "name": "python3"
  },
  "language_info": {
   "codemirror_mode": {
    "name": "ipython",
    "version": 3
   },
   "file_extension": ".py",
   "mimetype": "text/x-python",
   "name": "python",
   "nbconvert_exporter": "python",
   "pygments_lexer": "ipython3",
   "version": "3.11.7"
  }
 },
 "nbformat": 4,
 "nbformat_minor": 5
}
